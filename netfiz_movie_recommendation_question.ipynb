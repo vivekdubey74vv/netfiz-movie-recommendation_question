{
  "nbformat": 4,
  "nbformat_minor": 0,
  "metadata": {
    "colab": {
      "provenance": [],
      "authorship_tag": "ABX9TyPODpYywHUrMhtiC9lxKvUx",
      "include_colab_link": true
    },
    "kernelspec": {
      "name": "python3",
      "display_name": "Python 3"
    },
    "language_info": {
      "name": "python"
    }
  },
  "cells": [
    {
      "cell_type": "markdown",
      "metadata": {
        "id": "view-in-github",
        "colab_type": "text"
      },
      "source": [
        "<a href=\"https://colab.research.google.com/github/vivekdubey74vv/netfiz-movie-recommendation_question/blob/main/netfiz_movie_recommendation_question.ipynb\" target=\"_parent\"><img src=\"https://colab.research.google.com/assets/colab-badge.svg\" alt=\"Open In Colab\"/></a>"
      ]
    },
    {
      "cell_type": "code",
      "source": [
        "import pandas as pd\n",
        "movies_df = pd.read_csv('/content/movies.csv')\n",
        "ratings_df = pd.read_csv('/content/ratings.csv')\n",
        "links_df = pd.read_csv('/content/links.csv')\n",
        "tags_df = pd.read_csv('/content/tags.csv')"
      ],
      "metadata": {
        "id": "9AnFBpMtfp_A"
      },
      "execution_count": 1,
      "outputs": []
    },
    {
      "cell_type": "code",
      "source": [
        "\n",
        "num_csv_files\n"
      ],
      "metadata": {
        "colab": {
          "base_uri": "https://localhost:8080/"
        },
        "id": "lwmoqkHTk8nk",
        "outputId": "d9aba552-856a-46ab-ab5e-0674f6f7469f"
      },
      "execution_count": 26,
      "outputs": [
        {
          "output_type": "execute_result",
          "data": {
            "text/plain": [
              "4"
            ]
          },
          "metadata": {},
          "execution_count": 26
        }
      ]
    },
    {
      "cell_type": "code",
      "source": [
        "movies_df.shape"
      ],
      "metadata": {
        "colab": {
          "base_uri": "https://localhost:8080/"
        },
        "id": "ZsTFFatjKjcE",
        "outputId": "73ef9c99-a432-46a9-ffbe-6f85f9d92993"
      },
      "execution_count": 27,
      "outputs": [
        {
          "output_type": "execute_result",
          "data": {
            "text/plain": [
              "(9742, 3)"
            ]
          },
          "metadata": {},
          "execution_count": 27
        }
      ]
    },
    {
      "cell_type": "code",
      "source": [
        "ratings_df.shape"
      ],
      "metadata": {
        "colab": {
          "base_uri": "https://localhost:8080/"
        },
        "id": "zts9BFZFWGd4",
        "outputId": "e9f7f8ab-b9a6-425a-d21a-a0148b6e4399"
      },
      "execution_count": 28,
      "outputs": [
        {
          "output_type": "execute_result",
          "data": {
            "text/plain": [
              "(100836, 4)"
            ]
          },
          "metadata": {},
          "execution_count": 28
        }
      ]
    },
    {
      "cell_type": "code",
      "source": [
        "unique_user_ids = ratings_df['userId'].nunique()\n",
        "\n",
        "print(\"Number of unique userId:\", unique_user_ids)\n"
      ],
      "metadata": {
        "colab": {
          "base_uri": "https://localhost:8080/"
        },
        "id": "cO4kD4cVQmZA",
        "outputId": "fc57a663-fe4f-46b8-bb48-8a92f9300920"
      },
      "execution_count": 9,
      "outputs": [
        {
          "output_type": "stream",
          "name": "stdout",
          "text": [
            "Number of unique userId: 610\n"
          ]
        }
      ]
    },
    {
      "cell_type": "code",
      "source": [
        "\n",
        "movie_ratings_count = ratings_df.groupby('movieId')['rating'].count()\n",
        "max_ratings_movie_id = movie_ratings_count.idxmax()\n",
        "movies_df = pd.read_csv('movies.csv')\n",
        "max_ratings_movie_title = movies_df.loc[movies_df['movieId'] == max_ratings_movie_id, 'title'].values[0]\n",
        "\n",
        "print(\"Movie with the maximum number of ratings:\", max_ratings_movie_title)\n"
      ],
      "metadata": {
        "colab": {
          "base_uri": "https://localhost:8080/"
        },
        "id": "qQglsa0FQ3Fa",
        "outputId": "ef3a0442-52da-4cf4-9d96-429fb737db72"
      },
      "execution_count": 10,
      "outputs": [
        {
          "output_type": "stream",
          "name": "stdout",
          "text": [
            "Movie with the maximum number of ratings: Forrest Gump (1994)\n"
          ]
        }
      ]
    },
    {
      "cell_type": "code",
      "source": [
        "matrix_movie_id = movies_df.loc[movies_df['title'] == 'Matrix, The (1999)', 'movieId'].values[0]\n",
        "matrix_tags = tags_df.loc[tags_df['movieId'] == matrix_movie_id, 'tag']\n",
        "print(\"Tags for Matrix, The (1999):\")\n",
        "print(matrix_tags)\n"
      ],
      "metadata": {
        "colab": {
          "base_uri": "https://localhost:8080/"
        },
        "id": "_WZk7I8yRJaB",
        "outputId": "b51036c6-7bed-49e8-f132-ffe1dc4631d4"
      },
      "execution_count": 11,
      "outputs": [
        {
          "output_type": "stream",
          "name": "stdout",
          "text": [
            "Tags for Matrix, The (1999):\n",
            "815           martial arts\n",
            "816                 sci-fi\n",
            "1646    alternate universe\n",
            "2794            philosophy\n",
            "2795      post apocalyptic\n",
            "Name: tag, dtype: object\n"
          ]
        }
      ]
    },
    {
      "cell_type": "code",
      "source": [
        "terminator2_movie_id = movies_df.loc[movies_df['title'] == 'Terminator 2: Judgment Day (1991)', 'movieId'].values[0]\n",
        "terminator2_ratings = ratings_df.loc[ratings_df['movieId'] == terminator2_movie_id, 'rating']average_rating = terminator2_ratings.mean()\n",
        "print(\"Average rating for Terminator 2: Judgment Day (1991):\", average_rating)\n"
      ],
      "metadata": {
        "colab": {
          "base_uri": "https://localhost:8080/"
        },
        "id": "mNasGKQGRJc_",
        "outputId": "f9592478-91be-4911-8521-886471de9c13"
      },
      "execution_count": 12,
      "outputs": [
        {
          "output_type": "stream",
          "name": "stdout",
          "text": [
            "Average rating for Terminator 2: Judgment Day (1991): 3.970982142857143\n"
          ]
        }
      ]
    },
    {
      "cell_type": "code",
      "source": [
        "import matplotlib.pyplot as plt\n",
        "import seaborn as sns\n",
        "fight_club_movie_id = movies_df.loc[movies_df['title'] == 'Fight Club (1999)', 'movieId'].values[0]\n",
        "fight_club_ratings = ratings_df.loc[ratings_df['movieId'] == fight_club_movie_id, 'rating']\n",
        "plt.figure(figsize=(10, 6))\n",
        "sns.histplot(fight_club_ratings, bins=10, kde=True, color='skyblue')\n",
        "plt.title('User Ratings Distribution for Fight Club (1999)')\n",
        "plt.xlabel('Rating')\n",
        "plt.ylabel('Frequency')\n",
        "plt.show()\n"
      ],
      "metadata": {
        "colab": {
          "base_uri": "https://localhost:8080/",
          "height": 564
        },
        "id": "hsY3X2F1RJfp",
        "outputId": "96576819-041a-4080-d9da-df2e01e23fe8"
      },
      "execution_count": 13,
      "outputs": [
        {
          "output_type": "display_data",
          "data": {
            "text/plain": [
              "<Figure size 1000x600 with 1 Axes>"
            ],
            "image/png": "[encoded data removed]"
          },
          "metadata": {}
        }
      ]
    },
    {
      "cell_type": "code",
      "source": [
        "grouped_ratings = ratings_df.groupby('movieId').agg({'rating': ['count', 'mean']}).reset_index()\n",
        "\n",
        "grouped_ratings.columns = ['movieId', 'rating_count', 'average_rating']\n",
        "\n",
        "movies_df = pd.read_csv('movies.csv')\n",
        "\n",
        "merged_df = pd.merge(movies_df, grouped_ratings, on='movieId', how='inner')\n",
        "filtered_movies = merged_df[merged_df['rating_count'] > 50]\n",
        "most_popular_movie = filtered_movies.loc[filtered_movies['average_rating'].idxmax(), 'title']\n",
        "\n",
        "print(\"Most popular movie based on average user ratings:\", most_popular_movie)\n"
      ],
      "metadata": {
        "colab": {
          "base_uri": "https://localhost:8080/"
        },
        "id": "H1KxB8rrRJiL",
        "outputId": "221b53e5-1ccc-4d29-f150-08631cfb70af"
      },
      "execution_count": 14,
      "outputs": [
        {
          "output_type": "stream",
          "name": "stdout",
          "text": [
            "Most popular movie based on average user ratings: Shawshank Redemption, The (1994)\n"
          ]
        }
      ]
    },
    {
      "cell_type": "code",
      "source": [
        "top_movies_by_ratings = filtered_movies.sort_values(by='rating_count', ascending=False).head(5)\n",
        "\n",
        "movies_to_check = [\"Pulp Fiction (1994)\", \"Bad Boys (1995)\", \"Silence of the Lambs, The (1991)\", \"Matrix, The (1999)\"\n",
        "correct_options = top_movies_by_ratings['title'].isin(movies_to_check)\n",
        "print(\"Correct options:\")\n",
        "print(correct_options)\n"
      ],
      "metadata": {
        "colab": {
          "base_uri": "https://localhost:8080/"
        },
        "id": "4eUtBYcdRJkq",
        "outputId": "fde29e9f-d8f5-423e-8d76-0b5bd16828ab"
      },
      "execution_count": 15,
      "outputs": [
        {
          "output_type": "stream",
          "name": "stdout",
          "text": [
            "Correct options:\n",
            "314     False\n",
            "277     False\n",
            "257      True\n",
            "510      True\n",
            "1938     True\n",
            "Name: title, dtype: bool\n"
          ]
        }
      ]
    },
    {
      "cell_type": "code",
      "source": [
        "sci_fi_movies = filtered_movies[filtered_movies['genres'].str.contains('Sci-Fi')]\n",
        "top_sci_fi_movies = sci_fi_movies.sort_values(by='rating_count', ascending=False)\n",
        "third_most_popular_sci_fi_movie = top_sci_fi_movies.iloc[2]['title']\n",
        "\n",
        "print(\"Third most popular Sci-Fi movie based on user ratings:\", third_most_popular_sci_fi_movie)\n"
      ],
      "metadata": {
        "colab": {
          "base_uri": "https://localhost:8080/"
        },
        "id": "lMuHMW8iQ3N0",
        "outputId": "11d98ed3-9fbc-4cd2-f735-4931801babde"
      },
      "execution_count": 17,
      "outputs": [
        {
          "output_type": "stream",
          "name": "stdout",
          "text": [
            "Third most popular Sci-Fi movie based on user ratings: Jurassic Park (1993)\n"
          ]
        }
      ]
    }
  ]
}